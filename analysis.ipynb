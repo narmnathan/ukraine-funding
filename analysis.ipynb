{
 "cells": [
  {
   "cell_type": "markdown",
   "metadata": {},
   "source": [
    "# Main data analysis -- numbers are inconsistent\n",
    "Need to convert currencies and remove duplicates\n"
   ]
  },
  {
   "cell_type": "code",
   "execution_count": 103,
   "metadata": {},
   "outputs": [],
   "source": [
    "import pandas as pd"
   ]
  },
  {
   "cell_type": "code",
   "execution_count": 123,
   "metadata": {},
   "outputs": [],
   "source": [
    "ukraine = pd.read_excel('Ukraine_Support_Tracker_Release_13.xlsx', sheet_name='Bilateral Assistance, MAIN DATA')"
   ]
  },
  {
   "cell_type": "code",
   "execution_count": 124,
   "metadata": {},
   "outputs": [],
   "source": [
    "columns = ['ID', 'Countries', 'Explanation', 'Monetary Value as Given by Source']\n",
    "# Dataframe has duplicate values for certain aid descriptions, dropping by explanation\n",
    "aggregate = ukraine[columns]\n",
    "aggregate = aggregate.drop_duplicates(subset='Explanation')\n",
    "aggregate = aggregate.drop(columns=['Explanation'])"
   ]
  },
  {
   "cell_type": "code",
   "execution_count": 125,
   "metadata": {},
   "outputs": [],
   "source": [
    "# Most string values given in dataframe are NaN or 'Not given'\n",
    "# Using 0 for aggregate and other calculations\n",
    "def convert(value):\n",
    "    if type(value) == str:\n",
    "        return 0\n",
    "    return value\n",
    "\n",
    "aggregate['Monetary Value as Given by Source'] = aggregate['Monetary Value as Given by Source'].apply(convert)\n",
    "aggregate = aggregate.dropna()"
   ]
  },
  {
   "cell_type": "code",
   "execution_count": 126,
   "metadata": {},
   "outputs": [],
   "source": [
    "agg_sum = aggregate.groupby('Countries')['Monetary Value as Given by Source'].sum().reset_index()"
   ]
  },
  {
   "cell_type": "code",
   "execution_count": 127,
   "metadata": {},
   "outputs": [],
   "source": [
    "# Converting to value in billions\n",
    "def billion(int):\n",
    "    value = 1000000000\n",
    "    return int / value\n",
    "\n",
    "agg_sum['Monetary Value as Given by Source'] = agg_sum['Monetary Value as Given by Source'].apply(billion)\n",
    "# Use for data viz 1"
   ]
  },
  {
   "cell_type": "code",
   "execution_count": 128,
   "metadata": {},
   "outputs": [
    {
     "data": {
      "text/plain": [
       "Type of Aid General\n",
       "Military        471\n",
       "Humanitarian    406\n",
       "Financial       127\n",
       "Name: count, dtype: int64"
      ]
     },
     "execution_count": 128,
     "metadata": {},
     "output_type": "execute_result"
    }
   ],
   "source": [
    "columns = ['ID', 'Countries', 'Explanation', 'Type of Aid General']\n",
    "type_of_aid = ukraine[columns]\n",
    "type_of_aid = type_of_aid.drop_duplicates(subset='Explanation')\n",
    "type_of_aid = type_of_aid.drop(columns=['Explanation'])\n",
    "type_of_aid['Type of Aid General'].value_counts()\n",
    "# Data viz 2"
   ]
  },
  {
   "cell_type": "code",
   "execution_count": 129,
   "metadata": {},
   "outputs": [
    {
     "data": {
      "text/plain": [
       "Type of Aid General\n",
       "Military        65\n",
       "Humanitarian     7\n",
       "Financial        4\n",
       "Name: count, dtype: int64"
      ]
     },
     "execution_count": 129,
     "metadata": {},
     "output_type": "execute_result"
    }
   ],
   "source": [
    "us_aid_dist = type_of_aid[type_of_aid['Countries'] == 'United States']\n",
    "us_aid_dist['Type of Aid General'].value_counts()\n",
    "# Data viz 2b"
   ]
  },
  {
   "cell_type": "code",
   "execution_count": 130,
   "metadata": {},
   "outputs": [],
   "source": [
    "columns = ['ID', 'Countries', 'Announcement Date', 'Explanation', 'Monetary Value as Given by Source']\n",
    "us_aid = ukraine[columns]\n",
    "us_aid = us_aid[us_aid['Countries'] == 'United States']\n",
    "us_aid['Announcement Date'] = pd.to_datetime(us_aid['Announcement Date'])\n",
    "us_aid = us_aid.drop_duplicates(subset='Explanation') \n",
    "us_aid = us_aid.drop(columns=['Explanation'])\n",
    "\n",
    "# Data viz 3"
   ]
  },
  {
   "cell_type": "code",
   "execution_count": 131,
   "metadata": {},
   "outputs": [],
   "source": [
    "# Possible: take fiscal year allocations and compare to total budgets for year"
   ]
  },
  {
   "cell_type": "code",
   "execution_count": 132,
   "metadata": {},
   "outputs": [],
   "source": [
    "agg_sum.to_csv('agg_sum.csv', index=False)\n",
    "type_of_aid.to_csv('type_of_aid.csv', index=False)\n",
    "us_aid_dist.to_csv('us_aid_dist.csv', index=False)\n",
    "us_aid.to_csv('us_aid.csv', index=False)"
   ]
  },
  {
   "cell_type": "code",
   "execution_count": 136,
   "metadata": {},
   "outputs": [
    {
     "name": "stdout",
     "output_type": "stream",
     "text": [
      "        ID Countries    Announcement Date Monetary Value as Given by Source\n",
      "1202  NOM1    Norway     until 12/14/2022                         990000000\n",
      "1203  NOM1    Norway  2022-02-28 00:00:00                         990000000\n",
      "1226  NOM2    Norway      until 4/27/2022                         400000000\n",
      "1227  NOM3    Norway  2022-09-30 00:00:00                        3000000000\n",
      "1228  NOM3    Norway  2022-10-02 00:00:00                          30666666\n",
      "1229  NOM3    Norway  2022-11-25 00:00:00                         150000000\n",
      "1230  NOM3    Norway  2022-12-01 00:00:00                         280000000\n",
      "1232  NOM4    Norway  2023-02-16 00:00:00                        7500000000\n",
      "1233  NOM4    Norway  2023-02-14 00:00:00                        7500000000\n",
      "1235  NOM4    Norway  2023-03-10 00:00:00                        7500000000\n",
      "1236  NOM4    Norway  2023-04-03 00:00:00                        7500000000\n",
      "1237  NOM4    Norway  2023-05-25 00:00:00                        7500000000\n",
      "1238  NOM4    Norway  2023-05-25 00:00:00                        7500000000\n",
      "1240  NOM4    Norway  2023-06-15 00:00:00                        7500000000\n",
      "1241  NOM4    Norway  2023-06-15 00:00:00                        7500000000\n",
      "1242  NOM5    Norway  2023-02-16 00:00:00                        7500000000\n",
      "1246  NOH1    Norway      until 4/27/2022                         265000000\n",
      "1247  NOH2    Norway      until 4/27/2022                         100000000\n",
      "1248  NOH3    Norway  2022-06-13 00:00:00                         Not given\n",
      "1249  NOH4    Norway         until 6/2022                         310000000\n",
      "1250  NOH5    Norway        until 11/2022                        1100000000\n",
      "1251  NOH6    Norway  2023-01-19 00:00:00                          40000000\n",
      "1252  NOH7    Norway  2023-02-20 00:00:00                         Not given\n",
      "1253  NOH8    Norway  2023-02-24 00:00:00                         400000000\n",
      "1254  NOH9    Norway  2023-06-12 00:00:00                         150000000\n",
      "1255  NOF1    Norway      until 5/11/2022                         300000000\n",
      "1256  NOF2    Norway  2022-05-12 00:00:00                          50000000\n",
      "1257  NOF3    Norway  2022-10-05 00:00:00                        2000000000\n",
      "1258  NOF4    Norway  2022-10-05 00:00:00                        1000000000\n",
      "1259  NOF5    Norway  2023-02-16 00:00:00                        6910000000\n",
      "1260  NOF6    Norway  2023-02-16 00:00:00                        7500000000\n",
      "1261  NOF7    Norway  2023-02-16 00:00:00                        7500000000\n",
      "1262  NOF8    Norway  2023-02-16 00:00:00                        7500000000\n",
      "1263  NOF9    Norway  2023-02-16 00:00:00                        7500000000\n"
     ]
    }
   ],
   "source": [
    "columns = ['ID', 'Countries', 'Announcement Date', 'Explanation', 'Monetary Value as Given by Source']\n",
    "norway = ukraine[columns]\n",
    "norway = norway[norway['Countries'] == 'Norway']\n",
    "norway = norway.drop_duplicates(subset='Explanation') \n",
    "norway = norway.drop(columns=['Explanation'])\n",
    "\n",
    "print(norway)\n",
    "# Data viz 3"
   ]
  }
 ],
 "metadata": {
  "kernelspec": {
   "display_name": "Python 3.10.5 ('.venv': venv)",
   "language": "python",
   "name": "python3"
  },
  "language_info": {
   "codemirror_mode": {
    "name": "ipython",
    "version": 3
   },
   "file_extension": ".py",
   "mimetype": "text/x-python",
   "name": "python",
   "nbconvert_exporter": "python",
   "pygments_lexer": "ipython3",
   "version": "3.10.5"
  },
  "orig_nbformat": 4,
  "vscode": {
   "interpreter": {
    "hash": "4914a2651ea9429793904de571dbfe2e90e3811676b424f70877a66b982914d0"
   }
  }
 },
 "nbformat": 4,
 "nbformat_minor": 2
}
