{
 "cells": [
  {
   "cell_type": "code",
   "execution_count": 103,
   "metadata": {},
   "outputs": [],
   "source": [
    "import pandas as pd"
   ]
  },
  {
   "cell_type": "code",
   "execution_count": 123,
   "metadata": {},
   "outputs": [],
   "source": [
    "ukraine = pd.read_excel('Ukraine_Support_Tracker_Release_13.xlsx', sheet_name='Bilateral Assistance, MAIN DATA')"
   ]
  },
  {
   "cell_type": "code",
   "execution_count": 124,
   "metadata": {},
   "outputs": [],
   "source": [
    "columns = ['ID', 'Countries', 'Explanation', 'Monetary Value as Given by Source']\n",
    "# Dataframe has duplicate values for certain aid descriptions, dropping by explanation\n",
    "aggregate = ukraine[columns]\n",
    "aggregate = aggregate.drop_duplicates(subset='Explanation')\n",
    "aggregate = aggregate.drop(columns=['Explanation'])"
   ]
  },
  {
   "cell_type": "code",
   "execution_count": 125,
   "metadata": {},
   "outputs": [],
   "source": [
    "# Most string values given in dataframe are NaN or 'Not given'\n",
    "# Using 0 for aggregate and other calculations\n",
    "def convert(value):\n",
    "    if type(value) == str:\n",
    "        return 0\n",
    "    return value\n",
    "\n",
    "aggregate['Monetary Value as Given by Source'] = aggregate['Monetary Value as Given by Source'].apply(convert)\n",
    "aggregate = aggregate.dropna()"
   ]
  },
  {
   "cell_type": "code",
   "execution_count": 126,
   "metadata": {},
   "outputs": [],
   "source": [
    "agg_sum = aggregate.groupby('Countries')['Monetary Value as Given by Source'].sum().reset_index()"
   ]
  },
  {
   "cell_type": "code",
   "execution_count": 127,
   "metadata": {},
   "outputs": [],
   "source": [
    "# Converting to value in billions\n",
    "def billion(int):\n",
    "    value = 1000000000\n",
    "    return int / value\n",
    "\n",
    "agg_sum['Monetary Value as Given by Source'] = agg_sum['Monetary Value as Given by Source'].apply(billion)\n",
    "# Use for data viz 1"
   ]
  },
  {
   "cell_type": "code",
   "execution_count": 128,
   "metadata": {},
   "outputs": [
    {
     "data": {
      "text/plain": [
       "Type of Aid General\n",
       "Military        471\n",
       "Humanitarian    406\n",
       "Financial       127\n",
       "Name: count, dtype: int64"
      ]
     },
     "execution_count": 128,
     "metadata": {},
     "output_type": "execute_result"
    }
   ],
   "source": [
    "columns = ['ID', 'Countries', 'Explanation', 'Type of Aid General']\n",
    "type_of_aid = ukraine[columns]\n",
    "type_of_aid = type_of_aid.drop_duplicates(subset='Explanation')\n",
    "type_of_aid = type_of_aid.drop(columns=['Explanation'])\n",
    "type_of_aid['Type of Aid General'].value_counts()\n",
    "# Data viz 2"
   ]
  },
  {
   "cell_type": "code",
   "execution_count": 129,
   "metadata": {},
   "outputs": [
    {
     "data": {
      "text/plain": [
       "Type of Aid General\n",
       "Military        65\n",
       "Humanitarian     7\n",
       "Financial        4\n",
       "Name: count, dtype: int64"
      ]
     },
     "execution_count": 129,
     "metadata": {},
     "output_type": "execute_result"
    }
   ],
   "source": [
    "us_aid_dist = type_of_aid[type_of_aid['Countries'] == 'United States']\n",
    "us_aid_dist['Type of Aid General'].value_counts()\n",
    "# Data viz 2b"
   ]
  },
  {
   "cell_type": "code",
   "execution_count": 130,
   "metadata": {},
   "outputs": [],
   "source": [
    "columns = ['ID', 'Countries', 'Announcement Date', 'Explanation', 'Monetary Value as Given by Source']\n",
    "us_aid = ukraine[columns]\n",
    "us_aid = us_aid[us_aid['Countries'] == 'United States']\n",
    "us_aid['Announcement Date'] = pd.to_datetime(us_aid['Announcement Date'])\n",
    "us_aid = us_aid.drop_duplicates(subset='Explanation') \n",
    "us_aid = us_aid.drop(columns=['Explanation'])\n",
    "\n",
    "# Data viz 3"
   ]
  },
  {
   "cell_type": "code",
   "execution_count": 131,
   "metadata": {},
   "outputs": [],
   "source": [
    "# Possible: take fiscal year allocations and compare to total budgets for year"
   ]
  },
  {
   "cell_type": "code",
   "execution_count": 132,
   "metadata": {},
   "outputs": [],
   "source": [
    "agg_sum.to_csv('agg_sum.csv', index=False)\n",
    "type_of_aid.to_csv('type_of_aid.csv', index=False)\n",
    "us_aid_dist.to_csv('us_aid_dist.csv', index=False)\n",
    "us_aid.to_csv('us_aid.csv', index=False)"
   ]
  }
 ],
 "metadata": {
  "kernelspec": {
   "display_name": "Python 3.10.5 ('.venv': venv)",
   "language": "python",
   "name": "python3"
  },
  "language_info": {
   "codemirror_mode": {
    "name": "ipython",
    "version": 3
   },
   "file_extension": ".py",
   "mimetype": "text/x-python",
   "name": "python",
   "nbconvert_exporter": "python",
   "pygments_lexer": "ipython3",
   "version": "3.10.5"
  },
  "orig_nbformat": 4,
  "vscode": {
   "interpreter": {
    "hash": "4914a2651ea9429793904de571dbfe2e90e3811676b424f70877a66b982914d0"
   }
  }
 },
 "nbformat": 4,
 "nbformat_minor": 2
}
